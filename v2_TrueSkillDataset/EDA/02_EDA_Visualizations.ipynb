{
 "cells": [
  {
   "cell_type": "code",
   "execution_count": 28,
   "metadata": {},
   "outputs": [],
   "source": [
    "import pandas as pd\n",
    "import matplotlib.pyplot as plt\n",
    "%matplotlib inline\n",
    "import seaborn as sns\n",
    "import glob"
   ]
  },
  {
   "cell_type": "code",
   "execution_count": 2,
   "metadata": {},
   "outputs": [
    {
     "data": {
      "text/plain": [
       "['C:\\\\Users\\\\zange\\\\OneDrive\\\\Documents\\\\GitHub_Data\\\\Dota2Matches\\\\ability_ids.csv',\n",
       " 'C:\\\\Users\\\\zange\\\\OneDrive\\\\Documents\\\\GitHub_Data\\\\Dota2Matches\\\\ability_upgrades.csv',\n",
       " 'C:\\\\Users\\\\zange\\\\OneDrive\\\\Documents\\\\GitHub_Data\\\\Dota2Matches\\\\chat.csv',\n",
       " 'C:\\\\Users\\\\zange\\\\OneDrive\\\\Documents\\\\GitHub_Data\\\\Dota2Matches\\\\cluster_regions.csv',\n",
       " 'C:\\\\Users\\\\zange\\\\OneDrive\\\\Documents\\\\GitHub_Data\\\\Dota2Matches\\\\hero_names.csv',\n",
       " 'C:\\\\Users\\\\zange\\\\OneDrive\\\\Documents\\\\GitHub_Data\\\\Dota2Matches\\\\item_ids.csv',\n",
       " 'C:\\\\Users\\\\zange\\\\OneDrive\\\\Documents\\\\GitHub_Data\\\\Dota2Matches\\\\match.csv',\n",
       " 'C:\\\\Users\\\\zange\\\\OneDrive\\\\Documents\\\\GitHub_Data\\\\Dota2Matches\\\\match_outcomes.csv',\n",
       " 'C:\\\\Users\\\\zange\\\\OneDrive\\\\Documents\\\\GitHub_Data\\\\Dota2Matches\\\\objectives.csv',\n",
       " 'C:\\\\Users\\\\zange\\\\OneDrive\\\\Documents\\\\GitHub_Data\\\\Dota2Matches\\\\patch_dates.csv',\n",
       " 'C:\\\\Users\\\\zange\\\\OneDrive\\\\Documents\\\\GitHub_Data\\\\Dota2Matches\\\\players.csv',\n",
       " 'C:\\\\Users\\\\zange\\\\OneDrive\\\\Documents\\\\GitHub_Data\\\\Dota2Matches\\\\player_ratings.csv',\n",
       " 'C:\\\\Users\\\\zange\\\\OneDrive\\\\Documents\\\\GitHub_Data\\\\Dota2Matches\\\\player_time.csv',\n",
       " 'C:\\\\Users\\\\zange\\\\OneDrive\\\\Documents\\\\GitHub_Data\\\\Dota2Matches\\\\preparedMatchSkill.csv',\n",
       " 'C:\\\\Users\\\\zange\\\\OneDrive\\\\Documents\\\\GitHub_Data\\\\Dota2Matches\\\\purchase_log.csv',\n",
       " 'C:\\\\Users\\\\zange\\\\OneDrive\\\\Documents\\\\GitHub_Data\\\\Dota2Matches\\\\teamfights.csv',\n",
       " 'C:\\\\Users\\\\zange\\\\OneDrive\\\\Documents\\\\GitHub_Data\\\\Dota2Matches\\\\teamfights_players.csv',\n",
       " 'C:\\\\Users\\\\zange\\\\OneDrive\\\\Documents\\\\GitHub_Data\\\\Dota2Matches\\\\test_labels.csv',\n",
       " 'C:\\\\Users\\\\zange\\\\OneDrive\\\\Documents\\\\GitHub_Data\\\\Dota2Matches\\\\test_player.csv',\n",
       " 'C:\\\\Users\\\\zange\\\\OneDrive\\\\Documents\\\\GitHub_Data\\\\Dota2Matches\\\\yasp_sample.json']"
      ]
     },
     "execution_count": 2,
     "metadata": {},
     "output_type": "execute_result"
    }
   ],
   "source": [
    "glob.glob('C:\\\\Users\\\\zange\\\\OneDrive\\\\Documents\\\\GitHub_Data\\\\Dota2Matches\\\\*')"
   ]
  },
  {
   "cell_type": "code",
   "execution_count": 6,
   "metadata": {},
   "outputs": [],
   "source": [
    "df = pd.read_csv('C:\\\\Users\\\\zange\\\\OneDrive\\\\Documents\\\\GitHub_Data\\\\Dota2Matches\\\\objectives.csv')"
   ]
  },
  {
   "cell_type": "code",
   "execution_count": 7,
   "metadata": {},
   "outputs": [
    {
     "data": {
      "text/html": [
       "<div>\n",
       "<style scoped>\n",
       "    .dataframe tbody tr th:only-of-type {\n",
       "        vertical-align: middle;\n",
       "    }\n",
       "\n",
       "    .dataframe tbody tr th {\n",
       "        vertical-align: top;\n",
       "    }\n",
       "\n",
       "    .dataframe thead th {\n",
       "        text-align: right;\n",
       "    }\n",
       "</style>\n",
       "<table border=\"1\" class=\"dataframe\">\n",
       "  <thead>\n",
       "    <tr style=\"text-align: right;\">\n",
       "      <th></th>\n",
       "      <th>match_id</th>\n",
       "      <th>key</th>\n",
       "      <th>player1</th>\n",
       "      <th>player2</th>\n",
       "      <th>slot</th>\n",
       "      <th>subtype</th>\n",
       "      <th>team</th>\n",
       "      <th>time</th>\n",
       "      <th>value</th>\n",
       "    </tr>\n",
       "  </thead>\n",
       "  <tbody>\n",
       "    <tr>\n",
       "      <th>0</th>\n",
       "      <td>0</td>\n",
       "      <td>NaN</td>\n",
       "      <td>0</td>\n",
       "      <td>6</td>\n",
       "      <td>0.0</td>\n",
       "      <td>CHAT_MESSAGE_FIRSTBLOOD</td>\n",
       "      <td>NaN</td>\n",
       "      <td>1</td>\n",
       "      <td>309</td>\n",
       "    </tr>\n",
       "    <tr>\n",
       "      <th>1</th>\n",
       "      <td>0</td>\n",
       "      <td>NaN</td>\n",
       "      <td>3</td>\n",
       "      <td>-1</td>\n",
       "      <td>3.0</td>\n",
       "      <td>CHAT_MESSAGE_TOWER_KILL</td>\n",
       "      <td>2.0</td>\n",
       "      <td>894</td>\n",
       "      <td>2</td>\n",
       "    </tr>\n",
       "    <tr>\n",
       "      <th>2</th>\n",
       "      <td>0</td>\n",
       "      <td>NaN</td>\n",
       "      <td>2</td>\n",
       "      <td>-1</td>\n",
       "      <td>NaN</td>\n",
       "      <td>CHAT_MESSAGE_ROSHAN_KILL</td>\n",
       "      <td>2.0</td>\n",
       "      <td>925</td>\n",
       "      <td>200</td>\n",
       "    </tr>\n",
       "    <tr>\n",
       "      <th>3</th>\n",
       "      <td>0</td>\n",
       "      <td>NaN</td>\n",
       "      <td>1</td>\n",
       "      <td>-1</td>\n",
       "      <td>1.0</td>\n",
       "      <td>CHAT_MESSAGE_AEGIS</td>\n",
       "      <td>NaN</td>\n",
       "      <td>925</td>\n",
       "      <td>0</td>\n",
       "    </tr>\n",
       "    <tr>\n",
       "      <th>4</th>\n",
       "      <td>0</td>\n",
       "      <td>NaN</td>\n",
       "      <td>7</td>\n",
       "      <td>-1</td>\n",
       "      <td>7.0</td>\n",
       "      <td>CHAT_MESSAGE_TOWER_KILL</td>\n",
       "      <td>3.0</td>\n",
       "      <td>1016</td>\n",
       "      <td>3</td>\n",
       "    </tr>\n",
       "  </tbody>\n",
       "</table>\n",
       "</div>"
      ],
      "text/plain": [
       "   match_id  key  player1  player2  slot                   subtype  team  \\\n",
       "0         0  NaN        0        6   0.0   CHAT_MESSAGE_FIRSTBLOOD   NaN   \n",
       "1         0  NaN        3       -1   3.0   CHAT_MESSAGE_TOWER_KILL   2.0   \n",
       "2         0  NaN        2       -1   NaN  CHAT_MESSAGE_ROSHAN_KILL   2.0   \n",
       "3         0  NaN        1       -1   1.0        CHAT_MESSAGE_AEGIS   NaN   \n",
       "4         0  NaN        7       -1   7.0   CHAT_MESSAGE_TOWER_KILL   3.0   \n",
       "\n",
       "   time  value  \n",
       "0     1    309  \n",
       "1   894      2  \n",
       "2   925    200  \n",
       "3   925      0  \n",
       "4  1016      3  "
      ]
     },
     "execution_count": 7,
     "metadata": {},
     "output_type": "execute_result"
    }
   ],
   "source": [
    "df.head()"
   ]
  },
  {
   "cell_type": "code",
   "execution_count": 43,
   "metadata": {},
   "outputs": [
    {
     "data": {
      "text/html": [
       "<div>\n",
       "<style scoped>\n",
       "    .dataframe tbody tr th:only-of-type {\n",
       "        vertical-align: middle;\n",
       "    }\n",
       "\n",
       "    .dataframe tbody tr th {\n",
       "        vertical-align: top;\n",
       "    }\n",
       "\n",
       "    .dataframe thead th {\n",
       "        text-align: right;\n",
       "    }\n",
       "</style>\n",
       "<table border=\"1\" class=\"dataframe\">\n",
       "  <thead>\n",
       "    <tr style=\"text-align: right;\">\n",
       "      <th></th>\n",
       "      <th>subtype</th>\n",
       "      <th>match_id</th>\n",
       "    </tr>\n",
       "  </thead>\n",
       "  <tbody>\n",
       "    <tr>\n",
       "      <th>0</th>\n",
       "      <td>CHAT_MESSAGE_AEGIS</td>\n",
       "      <td>75174</td>\n",
       "    </tr>\n",
       "    <tr>\n",
       "      <th>1</th>\n",
       "      <td>CHAT_MESSAGE_AEGIS_STOLEN</td>\n",
       "      <td>1170</td>\n",
       "    </tr>\n",
       "    <tr>\n",
       "      <th>2</th>\n",
       "      <td>CHAT_MESSAGE_BARRACKS_KILL</td>\n",
       "      <td>269576</td>\n",
       "    </tr>\n",
       "    <tr>\n",
       "      <th>3</th>\n",
       "      <td>CHAT_MESSAGE_FIRSTBLOOD</td>\n",
       "      <td>48721</td>\n",
       "    </tr>\n",
       "    <tr>\n",
       "      <th>4</th>\n",
       "      <td>CHAT_MESSAGE_ROSHAN_KILL</td>\n",
       "      <td>76967</td>\n",
       "    </tr>\n",
       "  </tbody>\n",
       "</table>\n",
       "</div>"
      ],
      "text/plain": [
       "                      subtype  match_id\n",
       "0          CHAT_MESSAGE_AEGIS     75174\n",
       "1   CHAT_MESSAGE_AEGIS_STOLEN      1170\n",
       "2  CHAT_MESSAGE_BARRACKS_KILL    269576\n",
       "3     CHAT_MESSAGE_FIRSTBLOOD     48721\n",
       "4    CHAT_MESSAGE_ROSHAN_KILL     76967"
      ]
     },
     "execution_count": 43,
     "metadata": {},
     "output_type": "execute_result"
    }
   ],
   "source": [
    "barplot_data = df[['subtype','match_id']].groupby(['subtype'],as_index=False).count() # not ideal for counting\n",
    "barplot_data.head()"
   ]
  },
  {
   "cell_type": "code",
   "execution_count": 44,
   "metadata": {},
   "outputs": [
    {
     "data": {
      "image/png": "[encoded data removed]",
      "text/plain": [
       "<Figure size 864x432 with 1 Axes>"
      ]
     },
     "metadata": {},
     "output_type": "display_data"
    }
   ],
   "source": [
    "fig, ax = plt.subplots(figsize=(12,6))\n",
    "sns.barplot(x='subtype',y='match_id',data=barplot_data, ax=ax)\n",
    "ax.set_xticklabels(ax.get_xticklabels(), rotation = 60, horizontalalignment='right')\n",
    "plt.title(\"Counts of messages\")\n",
    "plt.ylabel(\"Count of message\")\n",
    "plt.xlabel(\"Messages\")\n",
    "plt.show()\n"
   ]
  },
  {
   "cell_type": "code",
   "execution_count": null,
   "metadata": {},
   "outputs": [],
   "source": []
  }
 ],
 "metadata": {
  "kernelspec": {
   "display_name": "base",
   "language": "python",
   "name": "python3"
  },
  "language_info": {
   "codemirror_mode": {
    "name": "ipython",
    "version": 3
   },
   "file_extension": ".py",
   "mimetype": "text/x-python",
   "name": "python",
   "nbconvert_exporter": "python",
   "pygments_lexer": "ipython3",
   "version": "3.9.12"
  },
  "orig_nbformat": 4
 },
 "nbformat": 4,
 "nbformat_minor": 2
}
