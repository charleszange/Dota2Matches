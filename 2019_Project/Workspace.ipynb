{
 "cells": [
  {
   "cell_type": "markdown",
   "metadata": {},
   "source": [
    "# Workspace"
   ]
  },
  {
   "cell_type": "code",
   "execution_count": 1,
   "metadata": {},
   "outputs": [],
   "source": [
    "import json, os, csv\n",
    "import numpy as np\n",
    "import pandas as pd\n",
    "from pprint import pprint\n",
    "from collections import Counter"
   ]
  },
  {
   "cell_type": "code",
   "execution_count": 3,
   "metadata": {},
   "outputs": [
    {
     "ename": "FileNotFoundError",
     "evalue": "[Errno 2] No such file or directory: './dota-2-matches/yasp_sample.json'",
     "output_type": "error",
     "traceback": [
      "\u001b[1;31m---------------------------------------------------------------------------\u001b[0m",
      "\u001b[1;31mFileNotFoundError\u001b[0m                         Traceback (most recent call last)",
      "\u001b[1;32m<ipython-input-3-000efe5bb74e>\u001b[0m in \u001b[0;36m<module>\u001b[1;34m\u001b[0m\n\u001b[0;32m      1\u001b[0m \u001b[1;31m#sample = json.read(open(\"dota-2-matches/yasp_sample.json\",'r'))\u001b[0m\u001b[1;33m\u001b[0m\u001b[1;33m\u001b[0m\u001b[1;33m\u001b[0m\u001b[0m\n\u001b[0;32m      2\u001b[0m \u001b[1;33m\u001b[0m\u001b[0m\n\u001b[1;32m----> 3\u001b[1;33m \u001b[1;32mwith\u001b[0m \u001b[0mopen\u001b[0m\u001b[1;33m(\u001b[0m\u001b[1;34m\"./dota-2-matches/yasp_sample.json\"\u001b[0m\u001b[1;33m,\u001b[0m\u001b[1;34m'r'\u001b[0m\u001b[1;33m,\u001b[0m\u001b[0mencoding\u001b[0m\u001b[1;33m=\u001b[0m\u001b[1;34m'utf8'\u001b[0m\u001b[1;33m)\u001b[0m \u001b[1;32mas\u001b[0m \u001b[0mfile_handle\u001b[0m\u001b[1;33m:\u001b[0m\u001b[1;33m\u001b[0m\u001b[1;33m\u001b[0m\u001b[0m\n\u001b[0m\u001b[0;32m      4\u001b[0m     \u001b[0mlines\u001b[0m \u001b[1;33m=\u001b[0m \u001b[0mfile_handle\u001b[0m\u001b[1;33m.\u001b[0m\u001b[0mreadlines\u001b[0m\u001b[1;33m(\u001b[0m\u001b[1;33m)\u001b[0m\u001b[1;33m\u001b[0m\u001b[1;33m\u001b[0m\u001b[0m\n\u001b[0;32m      5\u001b[0m     \u001b[0myasp_list\u001b[0m \u001b[1;33m=\u001b[0m \u001b[1;33m[\u001b[0m\u001b[1;33m]\u001b[0m \u001b[1;31m# becomes a list of dicts\u001b[0m\u001b[1;33m\u001b[0m\u001b[1;33m\u001b[0m\u001b[0m\n",
      "\u001b[1;31mFileNotFoundError\u001b[0m: [Errno 2] No such file or directory: './dota-2-matches/yasp_sample.json'"
     ]
    }
   ],
   "source": [
    "#sample = json.read(open(\"dota-2-matches/yasp_sample.json\",'r'))\n",
    "\n",
    "with open(\"./dota-2-matches/yasp_sample.json\",'r',encoding='utf8') as file_handle:\n",
    "    lines = file_handle.readlines()\n",
    "    yasp_list = [] # becomes a list of dicts\n",
    "    i = 1\n",
    "    while i < len(lines):\n",
    "        yasp_list.append(json.loads(lines[i]))\n",
    "        i = i + 2"
   ]
  },
  {
   "cell_type": "code",
   "execution_count": null,
   "metadata": {},
   "outputs": [],
   "source": [
    "#AAPL = pd.read_csv(\"./data/APPL.csv\", sep = \",\", header = 0, parse_dates = [0])\n",
    "\n",
    "match = pd.read_csv(\"./dota-2-matches/match.csv\", sep = \",\", header = 0)"
   ]
  },
  {
   "cell_type": "code",
   "execution_count": null,
   "metadata": {},
   "outputs": [],
   "source": [
    "match.shape"
   ]
  },
  {
   "cell_type": "code",
   "execution_count": null,
   "metadata": {},
   "outputs": [],
   "source": [
    "mask_mode2 = [row is not 22 for row in match['game_mode']]\n",
    "\n",
    "match[mask_mode2].head()"
   ]
  },
  {
   "cell_type": "code",
   "execution_count": null,
   "metadata": {},
   "outputs": [],
   "source": [
    "print(yasp_list[0].keys())"
   ]
  },
  {
   "cell_type": "code",
   "execution_count": null,
   "metadata": {},
   "outputs": [],
   "source": [
    "print(type(yasp_list[0]['players']))"
   ]
  },
  {
   "cell_type": "code",
   "execution_count": null,
   "metadata": {},
   "outputs": [],
   "source": [
    "print(yasp_list[0]['players'][0].keys())"
   ]
  },
  {
   "cell_type": "code",
   "execution_count": null,
   "metadata": {},
   "outputs": [],
   "source": [
    "players = pd.read_csv(\"./dota-2-matches/players.csv\", sep = \",\", header = 0)"
   ]
  },
  {
   "cell_type": "code",
   "execution_count": null,
   "metadata": {},
   "outputs": [],
   "source": [
    "players.shape"
   ]
  },
  {
   "cell_type": "code",
   "execution_count": null,
   "metadata": {},
   "outputs": [],
   "source": [
    "#players.head()\n",
    "match_114 = [row is 114 for row in players['match_id']]\n",
    "\n",
    "players[match_114].keys()"
   ]
  },
  {
   "cell_type": "code",
   "execution_count": null,
   "metadata": {},
   "outputs": [],
   "source": [
    "match_outcomes = pd.read_csv(\"./dota-2-matches/match_outcomes.csv\", sep = \",\", header = 0)"
   ]
  },
  {
   "cell_type": "code",
   "execution_count": null,
   "metadata": {},
   "outputs": [],
   "source": [
    "match_outcomes.head()"
   ]
  },
  {
   "cell_type": "code",
   "execution_count": null,
   "metadata": {},
   "outputs": [],
   "source": [
    "with open(\"./dota-2-matches/yasp_sample.json\",'r',encoding='utf8') as file_handle:\n",
    "    lines = file_handle.readlines()\n",
    "    text_list = [] # becomes a list of dicts\n",
    "    i = 1\n",
    "    while i < len(lines):\n",
    "        text_list.append(lines[i])\n",
    "        i = i + 2"
   ]
  },
  {
   "cell_type": "code",
   "execution_count": null,
   "metadata": {},
   "outputs": [],
   "source": [
    "yasp_list[2]['picks_bans']"
   ]
  },
  {
   "cell_type": "code",
   "execution_count": null,
   "metadata": {},
   "outputs": [],
   "source": [
    "print(players.keys())"
   ]
  },
  {
   "cell_type": "code",
   "execution_count": null,
   "metadata": {},
   "outputs": [],
   "source": [
    "print(match.keys())"
   ]
  },
  {
   "cell_type": "code",
   "execution_count": null,
   "metadata": {},
   "outputs": [],
   "source": [
    "print(match_outcomes.keys())"
   ]
  },
  {
   "cell_type": "code",
   "execution_count": null,
   "metadata": {},
   "outputs": [],
   "source": [
    "filteredYasp = []\n",
    "for yasp in yasp_list:\n",
    "    if yasp['picks_bans']:\n",
    "        filteredYasp.append(yasp)\n"
   ]
  },
  {
   "cell_type": "code",
   "execution_count": null,
   "metadata": {},
   "outputs": [],
   "source": [
    "len(filteredYasp)"
   ]
  },
  {
   "cell_type": "code",
   "execution_count": 4,
   "metadata": {},
   "outputs": [],
   "source": [
    "with open(\"./data_attempt.json\",'r',encoding='utf8') as file_handle:\n",
    "    data_attempt = json.load(file_handle)"
   ]
  },
  {
   "cell_type": "code",
   "execution_count": 5,
   "metadata": {},
   "outputs": [],
   "source": [
    "pickHistory = data_attempt"
   ]
  },
  {
   "cell_type": "code",
   "execution_count": 6,
   "metadata": {},
   "outputs": [
    {
     "name": "stdout",
     "output_type": "stream",
     "text": [
      "[{'hero_id': 80, 'is_pick': False, 'order': 0, 'team': 0},\n",
      " {'hero_id': 65, 'is_pick': False, 'order': 1, 'team': 1},\n",
      " {'hero_id': 88, 'is_pick': False, 'order': 2, 'team': 0},\n",
      " {'hero_id': 97, 'is_pick': False, 'order': 3, 'team': 1},\n",
      " {'hero_id': 91, 'is_pick': True, 'order': 4, 'team': 0},\n",
      " {'hero_id': 90, 'is_pick': True, 'order': 5, 'team': 1},\n",
      " {'hero_id': 55, 'is_pick': True, 'order': 6, 'team': 1},\n",
      " {'hero_id': 81, 'is_pick': True, 'order': 7, 'team': 0},\n",
      " {'hero_id': 54, 'is_pick': True, 'order': 8, 'team': 0},\n",
      " {'hero_id': 72, 'is_pick': True, 'order': 9, 'team': 1},\n",
      " {'hero_id': 85, 'is_pick': False, 'order': 10, 'team': 0},\n",
      " {'hero_id': 39, 'is_pick': False, 'order': 11, 'team': 1},\n",
      " {'hero_id': 33, 'is_pick': False, 'order': 12, 'team': 0},\n",
      " {'hero_id': 53, 'is_pick': False, 'order': 13, 'team': 1},\n",
      " {'hero_id': 62, 'is_pick': False, 'order': 14, 'team': 0},\n",
      " {'hero_id': 58, 'is_pick': False, 'order': 15, 'team': 1},\n",
      " {'hero_id': 13, 'is_pick': True, 'order': 16, 'team': 0},\n",
      " {'hero_id': 3, 'is_pick': True, 'order': 17, 'team': 1},\n",
      " {'hero_id': 66, 'is_pick': True, 'order': 18, 'team': 0},\n",
      " {'hero_id': 21, 'is_pick': True, 'order': 19, 'team': 1}]\n"
     ]
    }
   ],
   "source": [
    "pprint(pickHistory['rows'][0]['picks_bans']) # still need to check these matches to make sure they are indeed captain's mode! Other modes with picking besides that one?"
   ]
  },
  {
   "cell_type": "code",
   "execution_count": 7,
   "metadata": {},
   "outputs": [
    {
     "name": "stdout",
     "output_type": "stream",
     "text": [
      "85\n"
     ]
    }
   ],
   "source": [
    "counter = 0\n",
    "for pick in pickHistory['rows']:\n",
    "    if len(pick['picks_bans']) != 20:\n",
    "        counter = counter + 1\n",
    "\n",
    "print(counter)"
   ]
  },
  {
   "cell_type": "code",
   "execution_count": 8,
   "metadata": {},
   "outputs": [],
   "source": [
    "# 85 outliers. Just eliminate them. Somebody quit out during the last pick because they are terrible\n",
    "# that said, it might be interesting to look at the game modes anyway, and potentially draft up some SQL to be more specific on Captain's mode.\n",
    "# The is_pick order also looks a little strange...\n",
    "# But honestly the pick order doesn't matter. All that matters is that you end up with the right teams and stuff. You could even alphabetize if it made things easier?\n"
   ]
  },
  {
   "cell_type": "code",
   "execution_count": 9,
   "metadata": {},
   "outputs": [
    {
     "data": {
      "text/plain": [
       "dict_keys(['match_id', 'match_seq_num', 'radiant_win', 'start_time', 'duration', 'tower_status_radiant', 'tower_status_dire', 'barracks_status_radiant', 'barracks_status_dire', 'cluster', 'first_blood_time', 'lobby_type', 'human_players', 'leagueid', 'positive_votes', 'negative_votes', 'game_mode', 'engine', 'picks_bans', 'radiant_team_id', 'dire_team_id', 'radiant_team_name', 'dire_team_name', 'radiant_team_complete', 'dire_team_complete', 'radiant_captain', 'dire_captain', 'chat', 'objectives', 'radiant_gold_adv', 'radiant_xp_adv', 'teamfights', 'version', 'cosmetics', 'radiant_score', 'dire_score', 'draft_timings'])"
      ]
     },
     "execution_count": 9,
     "metadata": {},
     "output_type": "execute_result"
    }
   ],
   "source": [
    "pickHistory['rows'][0].keys()"
   ]
  },
  {
   "cell_type": "code",
   "execution_count": 10,
   "metadata": {},
   "outputs": [
    {
     "name": "stdout",
     "output_type": "stream",
     "text": [
      "Counter({2: 10000})\n"
     ]
    }
   ],
   "source": [
    "match_counts = Counter()\n",
    "for match in pickHistory['rows']:\n",
    "    match_counts[match['game_mode']] += 1\n",
    "\n",
    "pprint(match_counts)"
   ]
  },
  {
   "cell_type": "code",
   "execution_count": 11,
   "metadata": {},
   "outputs": [
    {
     "data": {
      "text/plain": [
       "1883502"
      ]
     },
     "execution_count": 11,
     "metadata": {},
     "output_type": "execute_result"
    }
   ],
   "source": [
    "pickHistory['rows'][0]['dire_team_id']"
   ]
  },
  {
   "cell_type": "code",
   "execution_count": 16,
   "metadata": {},
   "outputs": [
    {
     "data": {
      "text/plain": [
       "33"
      ]
     },
     "execution_count": 16,
     "metadata": {},
     "output_type": "execute_result"
    }
   ],
   "source": [
    "pickHistory['rows'][0]['negative_votes']"
   ]
  },
  {
   "cell_type": "code",
   "execution_count": null,
   "metadata": {},
   "outputs": [],
   "source": [
    "# NEW PATH : C:\\Users\\zange\\OneDrive\\Documents\\Business\\Education\\Drexel\\CS613\\dota-2-matches"
   ]
  }
 ],
 "metadata": {
  "kernelspec": {
   "display_name": "Python 3",
   "language": "python",
   "name": "python3"
  },
  "language_info": {
   "codemirror_mode": {
    "name": "ipython",
    "version": 3
   },
   "file_extension": ".py",
   "mimetype": "text/x-python",
   "name": "python",
   "nbconvert_exporter": "python",
   "pygments_lexer": "ipython3",
   "version": "3.7.1"
  }
 },
 "nbformat": 4,
 "nbformat_minor": 2
}
