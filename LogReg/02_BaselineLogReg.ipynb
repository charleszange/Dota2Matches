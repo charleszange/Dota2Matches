{
 "cells": [
  {
   "cell_type": "code",
   "execution_count": 10,
   "metadata": {},
   "outputs": [],
   "source": [
    "import pandas as pd\n",
    "import numpy as np\n",
    "import os\n",
    "from matplotlib import pyplot as plt\n",
    "import seaborn as sns\n",
    "from sklearn.linear_model import LogisticRegression\n",
    "from sklearn.model_selection import train_test_split\n",
    "from sklearn import metrics\n",
    "from sklearn.metrics import confusion_matrix\n",
    "from sklearn.metrics import accuracy_score"
   ]
  },
  {
   "cell_type": "code",
   "execution_count": 2,
   "metadata": {},
   "outputs": [
    {
     "data": {
      "text/html": [
       "<div>\n",
       "<style scoped>\n",
       "    .dataframe tbody tr th:only-of-type {\n",
       "        vertical-align: middle;\n",
       "    }\n",
       "\n",
       "    .dataframe tbody tr th {\n",
       "        vertical-align: top;\n",
       "    }\n",
       "\n",
       "    .dataframe thead th {\n",
       "        text-align: right;\n",
       "    }\n",
       "</style>\n",
       "<table border=\"1\" class=\"dataframe\">\n",
       "  <thead>\n",
       "    <tr style=\"text-align: right;\">\n",
       "      <th></th>\n",
       "      <th>Rad_Win</th>\n",
       "      <th>dire_trueskill_mu_mean</th>\n",
       "      <th>dire_trueskill_mu_sum</th>\n",
       "      <th>dire_trueskill_sigma_mean</th>\n",
       "      <th>radiant_trueskill_mu_mean</th>\n",
       "      <th>radiant_trueskill_mu_sum</th>\n",
       "      <th>radiant_trueskill_sigma_mean</th>\n",
       "    </tr>\n",
       "    <tr>\n",
       "      <th>match_id</th>\n",
       "      <th></th>\n",
       "      <th></th>\n",
       "      <th></th>\n",
       "      <th></th>\n",
       "      <th></th>\n",
       "      <th></th>\n",
       "      <th></th>\n",
       "    </tr>\n",
       "  </thead>\n",
       "  <tbody>\n",
       "    <tr>\n",
       "      <th>1636204962</th>\n",
       "      <td>0</td>\n",
       "      <td>25.357769</td>\n",
       "      <td>228.219917</td>\n",
       "      <td>5.307879</td>\n",
       "      <td>24.991777</td>\n",
       "      <td>224.925992</td>\n",
       "      <td>4.645305</td>\n",
       "    </tr>\n",
       "    <tr>\n",
       "      <th>1636322679</th>\n",
       "      <td>1</td>\n",
       "      <td>25.429459</td>\n",
       "      <td>152.576754</td>\n",
       "      <td>5.577277</td>\n",
       "      <td>29.280546</td>\n",
       "      <td>175.683275</td>\n",
       "      <td>7.656243</td>\n",
       "    </tr>\n",
       "    <tr>\n",
       "      <th>1637385965</th>\n",
       "      <td>0</td>\n",
       "      <td>28.605807</td>\n",
       "      <td>57.211613</td>\n",
       "      <td>4.346619</td>\n",
       "      <td>23.977755</td>\n",
       "      <td>47.955511</td>\n",
       "      <td>7.380554</td>\n",
       "    </tr>\n",
       "    <tr>\n",
       "      <th>1637623870</th>\n",
       "      <td>0</td>\n",
       "      <td>27.253514</td>\n",
       "      <td>545.070286</td>\n",
       "      <td>5.717296</td>\n",
       "      <td>24.122732</td>\n",
       "      <td>482.454634</td>\n",
       "      <td>6.343619</td>\n",
       "    </tr>\n",
       "    <tr>\n",
       "      <th>1637739731</th>\n",
       "      <td>1</td>\n",
       "      <td>25.028565</td>\n",
       "      <td>400.457043</td>\n",
       "      <td>6.378492</td>\n",
       "      <td>28.637235</td>\n",
       "      <td>458.195754</td>\n",
       "      <td>6.417469</td>\n",
       "    </tr>\n",
       "  </tbody>\n",
       "</table>\n",
       "</div>"
      ],
      "text/plain": [
       "            Rad_Win  dire_trueskill_mu_mean  dire_trueskill_mu_sum  \\\n",
       "match_id                                                             \n",
       "1636204962        0               25.357769             228.219917   \n",
       "1636322679        1               25.429459             152.576754   \n",
       "1637385965        0               28.605807              57.211613   \n",
       "1637623870        0               27.253514             545.070286   \n",
       "1637739731        1               25.028565             400.457043   \n",
       "\n",
       "            dire_trueskill_sigma_mean  radiant_trueskill_mu_mean  \\\n",
       "match_id                                                           \n",
       "1636204962                   5.307879                  24.991777   \n",
       "1636322679                   5.577277                  29.280546   \n",
       "1637385965                   4.346619                  23.977755   \n",
       "1637623870                   5.717296                  24.122732   \n",
       "1637739731                   6.378492                  28.637235   \n",
       "\n",
       "            radiant_trueskill_mu_sum  radiant_trueskill_sigma_mean  \n",
       "match_id                                                            \n",
       "1636204962                224.925992                      4.645305  \n",
       "1636322679                175.683275                      7.656243  \n",
       "1637385965                 47.955511                      7.380554  \n",
       "1637623870                482.454634                      6.343619  \n",
       "1637739731                458.195754                      6.417469  "
      ]
     },
     "execution_count": 2,
     "metadata": {},
     "output_type": "execute_result"
    }
   ],
   "source": [
    "# retrieve dataframe from previous work\n",
    "df = pd.read_csv('../../../../GitHub_Data/Dota2Matches/preparedMatchSkill.csv',index_col='match_id')\n",
    "df.head()"
   ]
  },
  {
   "cell_type": "code",
   "execution_count": 3,
   "metadata": {},
   "outputs": [
    {
     "data": {
      "text/plain": [
       "<AxesSubplot:>"
      ]
     },
     "execution_count": 3,
     "metadata": {},
     "output_type": "execute_result"
    },
    {
     "data": {
      "image/png": "[encoded data removed]",
      "text/plain": [
       "<Figure size 720x360 with 2 Axes>"
      ]
     },
     "metadata": {
      "needs_background": "light"
     },
     "output_type": "display_data"
    }
   ],
   "source": [
    "# feature selection\n",
    "plt.figure(figsize=(10,5))\n",
    "feature_correlation = df.corr()\n",
    "sns.heatmap(feature_correlation, annot=True)\n",
    "#Looks like sum trueskill_mean is the best one, but only .45 overall"
   ]
  },
  {
   "cell_type": "code",
   "execution_count": 4,
   "metadata": {},
   "outputs": [
    {
     "data": {
      "text/html": [
       "<div>\n",
       "<style scoped>\n",
       "    .dataframe tbody tr th:only-of-type {\n",
       "        vertical-align: middle;\n",
       "    }\n",
       "\n",
       "    .dataframe tbody tr th {\n",
       "        vertical-align: top;\n",
       "    }\n",
       "\n",
       "    .dataframe thead th {\n",
       "        text-align: right;\n",
       "    }\n",
       "</style>\n",
       "<table border=\"1\" class=\"dataframe\">\n",
       "  <thead>\n",
       "    <tr style=\"text-align: right;\">\n",
       "      <th></th>\n",
       "      <th>Rad_Win</th>\n",
       "      <th>radiant_trueskill_mu_mean</th>\n",
       "      <th>dire_trueskill_mu_mean</th>\n",
       "    </tr>\n",
       "    <tr>\n",
       "      <th>match_id</th>\n",
       "      <th></th>\n",
       "      <th></th>\n",
       "      <th></th>\n",
       "    </tr>\n",
       "  </thead>\n",
       "  <tbody>\n",
       "    <tr>\n",
       "      <th>1636204962</th>\n",
       "      <td>0</td>\n",
       "      <td>24.991777</td>\n",
       "      <td>25.357769</td>\n",
       "    </tr>\n",
       "    <tr>\n",
       "      <th>1636322679</th>\n",
       "      <td>1</td>\n",
       "      <td>29.280546</td>\n",
       "      <td>25.429459</td>\n",
       "    </tr>\n",
       "    <tr>\n",
       "      <th>1637385965</th>\n",
       "      <td>0</td>\n",
       "      <td>23.977755</td>\n",
       "      <td>28.605807</td>\n",
       "    </tr>\n",
       "    <tr>\n",
       "      <th>1637623870</th>\n",
       "      <td>0</td>\n",
       "      <td>24.122732</td>\n",
       "      <td>27.253514</td>\n",
       "    </tr>\n",
       "    <tr>\n",
       "      <th>1637739731</th>\n",
       "      <td>1</td>\n",
       "      <td>28.637235</td>\n",
       "      <td>25.028565</td>\n",
       "    </tr>\n",
       "  </tbody>\n",
       "</table>\n",
       "</div>"
      ],
      "text/plain": [
       "            Rad_Win  radiant_trueskill_mu_mean  dire_trueskill_mu_mean\n",
       "match_id                                                              \n",
       "1636204962        0                  24.991777               25.357769\n",
       "1636322679        1                  29.280546               25.429459\n",
       "1637385965        0                  23.977755               28.605807\n",
       "1637623870        0                  24.122732               27.253514\n",
       "1637739731        1                  28.637235               25.028565"
      ]
     },
     "execution_count": 4,
     "metadata": {},
     "output_type": "execute_result"
    }
   ],
   "source": [
    "df = df[['Rad_Win', 'radiant_trueskill_mu_mean','dire_trueskill_mu_mean']]\n",
    "df.head()"
   ]
  },
  {
   "cell_type": "code",
   "execution_count": 28,
   "metadata": {},
   "outputs": [],
   "source": [
    "x_train, x_test, y_train, y_test = train_test_split(df[['radiant_trueskill_mu_mean','dire_trueskill_mu_mean']].to_numpy(), \\\n",
    "     df['Rad_Win'].to_numpy(), train_size=.75)"
   ]
  },
  {
   "cell_type": "code",
   "execution_count": 6,
   "metadata": {},
   "outputs": [],
   "source": [
    "model = LogisticRegression(solver='saga')\n",
    "model.fit(x_train,y_train)\n",
    "y_predicted = model.predict(x_test)"
   ]
  },
  {
   "cell_type": "code",
   "execution_count": 7,
   "metadata": {},
   "outputs": [
    {
     "data": {
      "text/plain": [
       "<AxesSubplot:>"
      ]
     },
     "execution_count": 7,
     "metadata": {},
     "output_type": "execute_result"
    },
    {
     "data": {
      "image/png": "[encoded data removed]",
      "text/plain": [
       "<Figure size 720x720 with 2 Axes>"
      ]
     },
     "metadata": {
      "needs_background": "light"
     },
     "output_type": "display_data"
    }
   ],
   "source": [
    "c_matrix = metrics.confusion_matrix(y_test, y_predicted)\n",
    "plt.figure(figsize=(10,10))\n",
    "sns.heatmap(c_matrix,annot=True)"
   ]
  },
  {
   "cell_type": "code",
   "execution_count": 8,
   "metadata": {},
   "outputs": [
    {
     "name": "stdout",
     "output_type": "stream",
     "text": [
      "0.7991586887148245\n"
     ]
    }
   ],
   "source": [
    "accuracy = metrics.accuracy_score(y_test,y_predicted)\n",
    "print(accuracy)"
   ]
  },
  {
   "cell_type": "code",
   "execution_count": 11,
   "metadata": {},
   "outputs": [],
   "source": [
    "# Curious about select_kbest. Want to try that function out.\n",
    "from sklearn.feature_selection import SelectKBest\n",
    "from sklearn.feature_selection import chi2"
   ]
  },
  {
   "cell_type": "code",
   "execution_count": 12,
   "metadata": {},
   "outputs": [
    {
     "data": {
      "text/plain": [
       "array([[25.87669348, 25.57321743],\n",
       "       [27.23061969, 24.50351801],\n",
       "       [26.13227993, 23.71643263],\n",
       "       ...,\n",
       "       [26.10633131, 22.90551456],\n",
       "       [27.48151418, 26.54991725],\n",
       "       [27.23454314, 24.99671191]])"
      ]
     },
     "execution_count": 12,
     "metadata": {},
     "output_type": "execute_result"
    }
   ],
   "source": [
    "xtop_train = SelectKBest(chi2,k=2).fit_transform(x_train,y_train)\n",
    "xtop_train"
   ]
  },
  {
   "cell_type": "code",
   "execution_count": 21,
   "metadata": {},
   "outputs": [
    {
     "data": {
      "text/html": [
       "<div>\n",
       "<style scoped>\n",
       "    .dataframe tbody tr th:only-of-type {\n",
       "        vertical-align: middle;\n",
       "    }\n",
       "\n",
       "    .dataframe tbody tr th {\n",
       "        vertical-align: top;\n",
       "    }\n",
       "\n",
       "    .dataframe thead th {\n",
       "        text-align: right;\n",
       "    }\n",
       "</style>\n",
       "<table border=\"1\" class=\"dataframe\">\n",
       "  <thead>\n",
       "    <tr style=\"text-align: right;\">\n",
       "      <th></th>\n",
       "      <th>Rad_Win</th>\n",
       "      <th>dire_trueskill_mu_mean</th>\n",
       "      <th>dire_trueskill_mu_sum</th>\n",
       "      <th>dire_trueskill_sigma_mean</th>\n",
       "      <th>radiant_trueskill_mu_mean</th>\n",
       "      <th>radiant_trueskill_mu_sum</th>\n",
       "      <th>radiant_trueskill_sigma_mean</th>\n",
       "    </tr>\n",
       "    <tr>\n",
       "      <th>match_id</th>\n",
       "      <th></th>\n",
       "      <th></th>\n",
       "      <th></th>\n",
       "      <th></th>\n",
       "      <th></th>\n",
       "      <th></th>\n",
       "      <th></th>\n",
       "    </tr>\n",
       "  </thead>\n",
       "  <tbody>\n",
       "    <tr>\n",
       "      <th>1636204962</th>\n",
       "      <td>0</td>\n",
       "      <td>25.357769</td>\n",
       "      <td>228.219917</td>\n",
       "      <td>5.307879</td>\n",
       "      <td>24.991777</td>\n",
       "      <td>224.925992</td>\n",
       "      <td>4.645305</td>\n",
       "    </tr>\n",
       "    <tr>\n",
       "      <th>1636322679</th>\n",
       "      <td>1</td>\n",
       "      <td>25.429459</td>\n",
       "      <td>152.576754</td>\n",
       "      <td>5.577277</td>\n",
       "      <td>29.280546</td>\n",
       "      <td>175.683275</td>\n",
       "      <td>7.656243</td>\n",
       "    </tr>\n",
       "    <tr>\n",
       "      <th>1637385965</th>\n",
       "      <td>0</td>\n",
       "      <td>28.605807</td>\n",
       "      <td>57.211613</td>\n",
       "      <td>4.346619</td>\n",
       "      <td>23.977755</td>\n",
       "      <td>47.955511</td>\n",
       "      <td>7.380554</td>\n",
       "    </tr>\n",
       "    <tr>\n",
       "      <th>1637623870</th>\n",
       "      <td>0</td>\n",
       "      <td>27.253514</td>\n",
       "      <td>545.070286</td>\n",
       "      <td>5.717296</td>\n",
       "      <td>24.122732</td>\n",
       "      <td>482.454634</td>\n",
       "      <td>6.343619</td>\n",
       "    </tr>\n",
       "    <tr>\n",
       "      <th>1637739731</th>\n",
       "      <td>1</td>\n",
       "      <td>25.028565</td>\n",
       "      <td>400.457043</td>\n",
       "      <td>6.378492</td>\n",
       "      <td>28.637235</td>\n",
       "      <td>458.195754</td>\n",
       "      <td>6.417469</td>\n",
       "    </tr>\n",
       "  </tbody>\n",
       "</table>\n",
       "</div>"
      ],
      "text/plain": [
       "            Rad_Win  dire_trueskill_mu_mean  dire_trueskill_mu_sum  \\\n",
       "match_id                                                             \n",
       "1636204962        0               25.357769             228.219917   \n",
       "1636322679        1               25.429459             152.576754   \n",
       "1637385965        0               28.605807              57.211613   \n",
       "1637623870        0               27.253514             545.070286   \n",
       "1637739731        1               25.028565             400.457043   \n",
       "\n",
       "            dire_trueskill_sigma_mean  radiant_trueskill_mu_mean  \\\n",
       "match_id                                                           \n",
       "1636204962                   5.307879                  24.991777   \n",
       "1636322679                   5.577277                  29.280546   \n",
       "1637385965                   4.346619                  23.977755   \n",
       "1637623870                   5.717296                  24.122732   \n",
       "1637739731                   6.378492                  28.637235   \n",
       "\n",
       "            radiant_trueskill_mu_sum  radiant_trueskill_sigma_mean  \n",
       "match_id                                                            \n",
       "1636204962                224.925992                      4.645305  \n",
       "1636322679                175.683275                      7.656243  \n",
       "1637385965                 47.955511                      7.380554  \n",
       "1637623870                482.454634                      6.343619  \n",
       "1637739731                458.195754                      6.417469  "
      ]
     },
     "execution_count": 21,
     "metadata": {},
     "output_type": "execute_result"
    }
   ],
   "source": [
    "dfRetest = pd.read_csv('../../../../GitHub_Data/Dota2Matches/preparedMatchSkill.csv',index_col='match_id')\n",
    "dfRetest.head()"
   ]
  },
  {
   "cell_type": "markdown",
   "metadata": {},
   "source": [
    "dfBest = SelectKBest(chi2,k=2).fit_transform(dfRetest.loc[:,dfRetest.columns != 'Rad_Win'], dfRetest['Rad_Win'])\n",
    "dfBest # Interesting, SelectKBest is suggesting the Sums instead of the mean. Does that make sense since some teams have players drop?"
   ]
  },
  {
   "cell_type": "code",
   "execution_count": 29,
   "metadata": {},
   "outputs": [],
   "source": [
    "x_train_retest, x_test_retest, y_train_retest, y_test_retest = train_test_split(dfRetest[['radiant_trueskill_mu_sum','dire_trueskill_mu_sum']].to_numpy(), \\\n",
    "     dfRetest['Rad_Win'].to_numpy(), train_size=.75)"
   ]
  },
  {
   "cell_type": "code",
   "execution_count": 30,
   "metadata": {},
   "outputs": [
    {
     "data": {
      "text/plain": [
       "<AxesSubplot:>"
      ]
     },
     "execution_count": 30,
     "metadata": {},
     "output_type": "execute_result"
    },
    {
     "data": {
      "image/png": "[encoded data removed]",
      "text/plain": [
       "<Figure size 720x720 with 2 Axes>"
      ]
     },
     "metadata": {
      "needs_background": "light"
     },
     "output_type": "display_data"
    }
   ],
   "source": [
    "model_retest = LogisticRegression(solver='saga')\n",
    "model_retest.fit(x_train_retest,y_train_retest)\n",
    "y_predicted_retest = model.predict(x_test_retest)\n",
    "c_matrix_retest = metrics.confusion_matrix(y_test_retest, y_predicted_retest)\n",
    "plt.figure(figsize=(10,10))\n",
    "sns.heatmap(c_matrix_retest,annot=True)"
   ]
  },
  {
   "cell_type": "code",
   "execution_count": 46,
   "metadata": {},
   "outputs": [
    {
     "name": "stdout",
     "output_type": "stream",
     "text": [
      "With mean trueskillmu: 0.7991586887148245\n",
      "With sum trueskillmu 0.8002224156271154\n"
     ]
    }
   ],
   "source": [
    "accuracy_retest = metrics.accuracy_score(y_test_retest,y_predicted_retest)\n",
    "print('With mean trueskillmu:',accuracy)\n",
    "print('With sum trueskillmu',accuracy_retest) # shows improvement"
   ]
  },
  {
   "cell_type": "code",
   "execution_count": null,
   "metadata": {},
   "outputs": [],
   "source": []
  }
 ],
 "metadata": {
  "kernelspec": {
   "display_name": "Python 3.9.12 ('base')",
   "language": "python",
   "name": "python3"
  },
  "language_info": {
   "codemirror_mode": {
    "name": "ipython",
    "version": 3
   },
   "file_extension": ".py",
   "mimetype": "text/x-python",
   "name": "python",
   "nbconvert_exporter": "python",
   "pygments_lexer": "ipython3",
   "version": "3.9.12"
  },
  "orig_nbformat": 4,
  "vscode": {
   "interpreter": {
    "hash": "9fc4cac10966083ac77f4a77f3ea4bb784e6b93c813963305a7e10f258582a6c"
   }
  }
 },
 "nbformat": 4,
 "nbformat_minor": 2
}
