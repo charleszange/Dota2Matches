{
 "cells": [
  {
   "cell_type": "code",
   "execution_count": 1,
   "metadata": {},
   "outputs": [],
   "source": [
    "import pandas as pd\n",
    "#import json\n",
    "import numpy as np\n",
    "#from collections import defaultdict\n",
    "#from collections import Counter\n",
    "#import sklearn.linear_model\n",
    "#from sklearn.metrics import precision_recall_fscore_support as score\n",
    "#import os\n",
    "pd.options.mode.chained_assignment = None"
   ]
  },
  {
   "cell_type": "code",
   "execution_count": 2,
   "metadata": {},
   "outputs": [],
   "source": [
    "### Purpose: get smaller-than-actual versions of each CSV, take a look at what we can get from each\n",
    "\n",
    "sourceFilePath = \"C:\\\\Users\\\\zange\\\\OneDrive\\\\Documents\\\\Business\\\\Education\\\\Drexel\\\\CS613\\\\dota-2-matches\""
   ]
  },
  {
   "cell_type": "code",
   "execution_count": 45,
   "metadata": {},
   "outputs": [],
   "source": [
    "# Moved to Excel to more easily remove/rename columns,ended up with the following:\n",
    "target = pd.read_csv(open(sourceFilePath+\"\\\\teamfights_players.csv\"))\n",
    "#lineCount = 0;\n",
    "#with open(sourceFilePath+\"\\\\chat.csv\",\"r\",encoding=\"UTF-8\") as file_handle:\n",
    "#    for line in file_handle.readlines():\n",
    "#        lineCount = lineCount + 1;"
   ]
  },
  {
   "cell_type": "code",
   "execution_count": 46,
   "metadata": {},
   "outputs": [
    {
     "data": {
      "text/plain": [
       "(5390470, 8)"
      ]
     },
     "execution_count": 46,
     "metadata": {},
     "output_type": "execute_result"
    }
   ],
   "source": [
    "target.shape\n",
    "#lineCount"
   ]
  },
  {
   "cell_type": "code",
   "execution_count": 47,
   "metadata": {},
   "outputs": [
    {
     "data": {
      "text/html": [
       "<div>\n",
       "<style scoped>\n",
       "    .dataframe tbody tr th:only-of-type {\n",
       "        vertical-align: middle;\n",
       "    }\n",
       "\n",
       "    .dataframe tbody tr th {\n",
       "        vertical-align: top;\n",
       "    }\n",
       "\n",
       "    .dataframe thead th {\n",
       "        text-align: right;\n",
       "    }\n",
       "</style>\n",
       "<table border=\"1\" class=\"dataframe\">\n",
       "  <thead>\n",
       "    <tr style=\"text-align: right;\">\n",
       "      <th></th>\n",
       "      <th>match_id</th>\n",
       "      <th>player_slot</th>\n",
       "      <th>buybacks</th>\n",
       "      <th>damage</th>\n",
       "      <th>deaths</th>\n",
       "      <th>gold_delta</th>\n",
       "      <th>xp_end</th>\n",
       "      <th>xp_start</th>\n",
       "    </tr>\n",
       "  </thead>\n",
       "  <tbody>\n",
       "    <tr>\n",
       "      <th>0</th>\n",
       "      <td>0</td>\n",
       "      <td>0</td>\n",
       "      <td>0</td>\n",
       "      <td>105</td>\n",
       "      <td>0</td>\n",
       "      <td>173</td>\n",
       "      <td>536</td>\n",
       "      <td>314</td>\n",
       "    </tr>\n",
       "    <tr>\n",
       "      <th>1</th>\n",
       "      <td>0</td>\n",
       "      <td>1</td>\n",
       "      <td>0</td>\n",
       "      <td>566</td>\n",
       "      <td>1</td>\n",
       "      <td>0</td>\n",
       "      <td>1583</td>\n",
       "      <td>1418</td>\n",
       "    </tr>\n",
       "    <tr>\n",
       "      <th>2</th>\n",
       "      <td>0</td>\n",
       "      <td>2</td>\n",
       "      <td>0</td>\n",
       "      <td>0</td>\n",
       "      <td>0</td>\n",
       "      <td>0</td>\n",
       "      <td>391</td>\n",
       "      <td>391</td>\n",
       "    </tr>\n",
       "    <tr>\n",
       "      <th>3</th>\n",
       "      <td>0</td>\n",
       "      <td>3</td>\n",
       "      <td>0</td>\n",
       "      <td>0</td>\n",
       "      <td>0</td>\n",
       "      <td>123</td>\n",
       "      <td>1775</td>\n",
       "      <td>1419</td>\n",
       "    </tr>\n",
       "    <tr>\n",
       "      <th>4</th>\n",
       "      <td>0</td>\n",
       "      <td>4</td>\n",
       "      <td>0</td>\n",
       "      <td>444</td>\n",
       "      <td>0</td>\n",
       "      <td>336</td>\n",
       "      <td>1267</td>\n",
       "      <td>983</td>\n",
       "    </tr>\n",
       "  </tbody>\n",
       "</table>\n",
       "</div>"
      ],
      "text/plain": [
       "   match_id  player_slot  buybacks  damage  deaths  gold_delta  xp_end  \\\n",
       "0         0            0         0     105       0         173     536   \n",
       "1         0            1         0     566       1           0    1583   \n",
       "2         0            2         0       0       0           0     391   \n",
       "3         0            3         0       0       0         123    1775   \n",
       "4         0            4         0     444       0         336    1267   \n",
       "\n",
       "   xp_start  \n",
       "0       314  \n",
       "1      1418  \n",
       "2       391  \n",
       "3      1419  \n",
       "4       983  "
      ]
     },
     "execution_count": 47,
     "metadata": {},
     "output_type": "execute_result"
    }
   ],
   "source": [
    "target.head()"
   ]
  },
  {
   "cell_type": "code",
   "execution_count": 35,
   "metadata": {},
   "outputs": [
    {
     "data": {
      "text/plain": [
       "Index(['match_id', 'times', 'gold_t_0', 'lh_t_0', 'xp_t_0', 'gold_t_1',\n",
       "       'lh_t_1', 'xp_t_1', 'gold_t_2', 'lh_t_2', 'xp_t_2', 'gold_t_3',\n",
       "       'lh_t_3', 'xp_t_3', 'gold_t_4', 'lh_t_4', 'xp_t_4', 'gold_t_128',\n",
       "       'lh_t_128', 'xp_t_128', 'gold_t_129', 'lh_t_129', 'xp_t_129',\n",
       "       'gold_t_130', 'lh_t_130', 'xp_t_130', 'gold_t_131', 'lh_t_131',\n",
       "       'xp_t_131', 'gold_t_132', 'lh_t_132', 'xp_t_132'],\n",
       "      dtype='object')"
      ]
     },
     "execution_count": 35,
     "metadata": {},
     "output_type": "execute_result"
    }
   ],
   "source": [
    "target.keys()"
   ]
  },
  {
   "cell_type": "code",
   "execution_count": null,
   "metadata": {},
   "outputs": [],
   "source": []
  }
 ],
 "metadata": {
  "kernelspec": {
   "display_name": "Python 3",
   "language": "python",
   "name": "python3"
  },
  "language_info": {
   "codemirror_mode": {
    "name": "ipython",
    "version": 3
   },
   "file_extension": ".py",
   "mimetype": "text/x-python",
   "name": "python",
   "nbconvert_exporter": "python",
   "pygments_lexer": "ipython3",
   "version": "3.7.1"
  }
 },
 "nbformat": 4,
 "nbformat_minor": 2
}
