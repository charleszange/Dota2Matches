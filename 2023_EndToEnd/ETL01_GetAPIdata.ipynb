{
 "cells": [
  {
   "cell_type": "code",
   "execution_count": 22,
   "metadata": {},
   "outputs": [],
   "source": [
    "# Goal:\n",
    "## 1: pull 100 random public matches.\n",
    "## 2: get 100 match details.\n",
    "## 3: get 10 all player MMRs from al those matches (max 1000).\n",
    "## 4: put those data into PostGres\n",
    "# Relies on PostGres DB being up and running on localhost\n",
    "import requests\n",
    "import pandas as pd\n",
    "import numpy as np\n",
    "import psycopg2\n",
    "import json\n",
    "import time"
   ]
  },
  {
   "cell_type": "code",
   "execution_count": 23,
   "metadata": {},
   "outputs": [],
   "source": [
    "# get random set of 100 matches\n",
    "response = requests.get(\"https://api.opendota.com/api/publicMatches\")\n",
    "public_match_results = pd.DataFrame.from_dict(response.json(), orient='columns')"
   ]
  },
  {
   "cell_type": "code",
   "execution_count": 24,
   "metadata": {},
   "outputs": [],
   "source": [
    "# clean up Match data\n",
    "## NaN MMR is unhelpful\n",
    "## fewer than 10 players is unhelpful\n",
    "public_match_results.dropna(inplace=True)\n",
    "\n",
    "# Low-tech check for 5v5? Check for 4 commas (separates 5 hero values) on each team\n",
    "public_match_results['commacount'] = public_match_results.apply(lambda x: x.radiant_team.count(',')+x.dire_team.count(','),axis=1)\n",
    "public_match_resultsn = public_match_results[public_match_results['commacount'] == 8]\n",
    "public_match_results.drop(['commacount'],axis=1, inplace=True)\n",
    "\n",
    "# hero names not needed, these will be pulled in separately with Players later\n",
    "public_match_results.drop(['radiant_team','dire_team'],axis=1,inplace=True)"
   ]
  },
  {
   "cell_type": "code",
   "execution_count": 25,
   "metadata": {},
   "outputs": [],
   "source": [
    "batch_file_name = 'last_matchresults_batch.csv'\n",
    "public_match_results.to_csv(batch_file_name,header=None,index=None,sep='|')"
   ]
  },
  {
   "cell_type": "code",
   "execution_count": 26,
   "metadata": {},
   "outputs": [],
   "source": [
    "# match data is prepared. time to move to Postgres\n",
    "## get credentials from .config, connect to DB\n",
    "credential_dict = {}\n",
    "with open ('connections.config','r') as config_file:\n",
    "    credential_dict = json.loads(config_file.read())\n",
    "\n",
    "connection_string = \"dbname=\"+credential_dict['psql_dbname'] + \\\n",
    "    \" user=\"+credential_dict['psql_username'] + \\\n",
    "    \" password=\"+credential_dict['psql_password']\n",
    "\n",
    "conn = psycopg2.connect(connection_string)\n",
    "\n",
    "# place the psql cursor\n",
    "cur = conn.cursor()"
   ]
  },
  {
   "cell_type": "code",
   "execution_count": 27,
   "metadata": {},
   "outputs": [
    {
     "ename": "UniqueViolation",
     "evalue": "duplicate key value violates unique constraint \"match_results_pkey\"\nDETAIL:  Key (match_id)=(7216020117) already exists.\nCONTEXT:  COPY match_results, line 15\n",
     "output_type": "error",
     "traceback": [
      "\u001b[1;31m---------------------------------------------------------------------------\u001b[0m",
      "\u001b[1;31mUniqueViolation\u001b[0m                           Traceback (most recent call last)",
      "\u001b[1;32mc:\\Users\\zange\\OneDrive\\Documents\\GitHub\\VSCode_Clones\\Dota2Matches\\2023_EndToEnd\\ETL01_GetAPIdata.ipynb Cell 6\u001b[0m in \u001b[0;36m<cell line: 3>\u001b[1;34m()\u001b[0m\n\u001b[0;32m      <a href='vscode-notebook-cell:/c%3A/Users/zange/OneDrive/Documents/GitHub/VSCode_Clones/Dota2Matches/2023_EndToEnd/ETL01_GetAPIdata.ipynb#W5sZmlsZQ%3D%3D?line=0'>1</a>\u001b[0m \u001b[39m# copy csv to Postgres, commit the change\u001b[39;00m\n\u001b[0;32m      <a href='vscode-notebook-cell:/c%3A/Users/zange/OneDrive/Documents/GitHub/VSCode_Clones/Dota2Matches/2023_EndToEnd/ETL01_GetAPIdata.ipynb#W5sZmlsZQ%3D%3D?line=1'>2</a>\u001b[0m \u001b[39m## Need to address duplicate primary keys earlier in process - or in copy_from\u001b[39;00m\n\u001b[0;32m      <a href='vscode-notebook-cell:/c%3A/Users/zange/OneDrive/Documents/GitHub/VSCode_Clones/Dota2Matches/2023_EndToEnd/ETL01_GetAPIdata.ipynb#W5sZmlsZQ%3D%3D?line=2'>3</a>\u001b[0m \u001b[39mwith\u001b[39;00m \u001b[39mopen\u001b[39m (batch_file_name,\u001b[39m'\u001b[39m\u001b[39mr\u001b[39m\u001b[39m'\u001b[39m) \u001b[39mas\u001b[39;00m batch_file:\n\u001b[1;32m----> <a href='vscode-notebook-cell:/c%3A/Users/zange/OneDrive/Documents/GitHub/VSCode_Clones/Dota2Matches/2023_EndToEnd/ETL01_GetAPIdata.ipynb#W5sZmlsZQ%3D%3D?line=3'>4</a>\u001b[0m     cur\u001b[39m.\u001b[39;49mcopy_from(batch_file, \u001b[39m'\u001b[39;49m\u001b[39mmatch_results\u001b[39;49m\u001b[39m'\u001b[39;49m, sep\u001b[39m=\u001b[39;49m\u001b[39m'\u001b[39;49m\u001b[39m|\u001b[39;49m\u001b[39m'\u001b[39;49m)\n\u001b[0;32m      <a href='vscode-notebook-cell:/c%3A/Users/zange/OneDrive/Documents/GitHub/VSCode_Clones/Dota2Matches/2023_EndToEnd/ETL01_GetAPIdata.ipynb#W5sZmlsZQ%3D%3D?line=4'>5</a>\u001b[0m conn\u001b[39m.\u001b[39mcommit()\n",
      "\u001b[1;31mUniqueViolation\u001b[0m: duplicate key value violates unique constraint \"match_results_pkey\"\nDETAIL:  Key (match_id)=(7216020117) already exists.\nCONTEXT:  COPY match_results, line 15\n"
     ]
    }
   ],
   "source": [
    "# copy csv to Postgres, commit the change\n",
    "## Need to address duplicate primary keys earlier in process - or in copy_from\n",
    "with open (batch_file_name,'r') as batch_file:\n",
    "    cur.copy_from(batch_file, 'match_results', sep='|')\n",
    "conn.commit()"
   ]
  },
  {
   "cell_type": "code",
   "execution_count": 28,
   "metadata": {},
   "outputs": [],
   "source": [
    "# close psql cursor and connection\n",
    "cur.close()\n",
    "conn.close()"
   ]
  },
  {
   "cell_type": "code",
   "execution_count": null,
   "metadata": {},
   "outputs": [],
   "source": [
    "# 2023-06-25 starting with just one match from this list.\n",
    "## Ultimately, there will be loops to accomplish each step.\n",
    "#target_matches = []\n",
    "#target_matches.append(public_match_results.iloc[0]['match_id']) # just grab the first match for now\n",
    "#match_details = pd.DataFrame()\n",
    "\n",
    "# the following code doesn't work. The length of Match dicts are inconsistent.\n",
    "# will need to evaluate these inconsistencies deeper and then return here.\n",
    "#for i,target_match in enumerate(target_matches):\n",
    "#    # target matches are numpy.int64 by default\n",
    "#    api_string = \"https://api.opendota.com/api/matches/\"+str(target_match)\n",
    "#    response = requests.get(api_string)\n",
    "##    if response.status_code == 200:\n",
    "#        if i == 0:\n",
    "#            match_details = pd.DataFrame.from_dict(response.json(), orient='columns') # arrays not of same length\n",
    "#        else:\n",
    "#            pass # to be replaced later with Concatenate\n",
    "#    else:\n",
    "#        print(\"Response status code: \", response.status_code)\n",
    "#        break"
   ]
  },
  {
   "cell_type": "code",
   "execution_count": null,
   "metadata": {},
   "outputs": [],
   "source": [
    "#response.json()"
   ]
  },
  {
   "cell_type": "code",
   "execution_count": null,
   "metadata": {},
   "outputs": [],
   "source": [
    "#response.json()['players'][0]"
   ]
  },
  {
   "cell_type": "code",
   "execution_count": null,
   "metadata": {},
   "outputs": [],
   "source": [
    "#response2.json()['players'][0]['account_id']"
   ]
  },
  {
   "cell_type": "code",
   "execution_count": null,
   "metadata": {},
   "outputs": [],
   "source": [
    "#need player details as well for MMR etc.\n",
    "#response3 = requests.get(\"https://api.opendota.com/api/players/416336446\")\n",
    "#response3.json()"
   ]
  },
  {
   "cell_type": "code",
   "execution_count": null,
   "metadata": {},
   "outputs": [],
   "source": [
    "# There's the MMR and also the Rank Tier above. Will take some work to get 100 matches, then 100 match results, then 10 players per match result to get all MMRs and rank tiers.\n"
   ]
  },
  {
   "cell_type": "code",
   "execution_count": null,
   "metadata": {},
   "outputs": [],
   "source": [
    "# for spacing out API calls\n",
    "#print('test')\n",
    "#time.sleep(2)\n",
    "#print('test2')"
   ]
  },
  {
   "cell_type": "code",
   "execution_count": null,
   "metadata": {},
   "outputs": [],
   "source": []
  }
 ],
 "metadata": {
  "kernelspec": {
   "display_name": "base",
   "language": "python",
   "name": "python3"
  },
  "language_info": {
   "codemirror_mode": {
    "name": "ipython",
    "version": 3
   },
   "file_extension": ".py",
   "mimetype": "text/x-python",
   "name": "python",
   "nbconvert_exporter": "python",
   "pygments_lexer": "ipython3",
   "version": "3.9.12"
  },
  "orig_nbformat": 4
 },
 "nbformat": 4,
 "nbformat_minor": 2
}
