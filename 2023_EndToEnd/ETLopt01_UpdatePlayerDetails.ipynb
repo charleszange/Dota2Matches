{
 "cells": [
  {
   "cell_type": "code",
   "execution_count": null,
   "metadata": {},
   "outputs": [],
   "source": [
    "# It will occasionally be necessary to update player MMR details\n",
    "# as players MMRs change over time. Broadly, the ETL focus is\n",
    "# on getting the MMRs of new and undocumented players. This\n",
    "# limits the number of API calls overall in the standard ETL\n",
    "# process to just those players without any MMR.\n",
    "import requests\n",
    "import pandas as pd\n",
    "import numpy as np\n",
    "import psycopg2\n",
    "import json\n",
    "import time"
   ]
  }
 ],
 "metadata": {
  "language_info": {
   "name": "python"
  },
  "orig_nbformat": 4
 },
 "nbformat": 4,
 "nbformat_minor": 2
}
