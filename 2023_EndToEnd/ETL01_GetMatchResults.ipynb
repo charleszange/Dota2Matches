{
 "cells": [
  {
   "cell_type": "code",
   "execution_count": 3,
   "metadata": {},
   "outputs": [],
   "source": [
    "# Goal:\n",
    "## 1: pull 100 random public matches.\n",
    "## 2: get match details from matches that meet analysis criteria.\n",
    "## 3: get all player MMRs from selected matches (max 1000).\n",
    "## 4: put those data into PostGres\n",
    "# Relies on PostGres DB being up and running on localhost\n",
    "import requests\n",
    "import pandas as pd\n",
    "import numpy as np\n",
    "import psycopg2\n",
    "import json\n",
    "import time\n",
    "import support_EventLogger as logger"
   ]
  },
  {
   "cell_type": "code",
   "execution_count": 4,
   "metadata": {},
   "outputs": [],
   "source": [
    "process_name = 'ETL01_GetMatchResults.ipynb' # for logger\n",
    "logger.log(process_name,'Process started, libraries loaded')"
   ]
  },
  {
   "cell_type": "code",
   "execution_count": 5,
   "metadata": {},
   "outputs": [],
   "source": [
    "# get random set of 100 matches\n",
    "logger.log(process_name,'Fetching public matches from opendota api')\n",
    "response = requests.get(\"https://api.opendota.com/api/publicMatches\")\n",
    "public_match_results = pd.DataFrame.from_dict(response.json(), orient='columns')\n",
    "logger.log(process_name,'Public match results fetched from opendota api')"
   ]
  },
  {
   "cell_type": "code",
   "execution_count": 6,
   "metadata": {},
   "outputs": [],
   "source": [
    "# clean up Match data\n",
    "## NaN MMR is unhelpful\n",
    "## fewer than 10 players is unhelpful\n",
    "public_match_results.dropna(inplace=True)\n",
    "\n",
    "# Low-tech check for 5v5? Check for 4 commas (separates 5 hero values) on each team\n",
    "public_match_results['commacount'] = public_match_results.apply(lambda x: x.radiant_team.count(',')+x.dire_team.count(','),axis=1)\n",
    "public_match_resultsn = public_match_results[public_match_results['commacount'] == 8]\n",
    "public_match_results.drop(['commacount'],axis=1, inplace=True)\n",
    "\n",
    "# hero names not needed, these will be pulled in separately with Players later\n",
    "public_match_results.drop(['radiant_team','dire_team'],axis=1,inplace=True)"
   ]
  },
  {
   "cell_type": "code",
   "execution_count": 7,
   "metadata": {},
   "outputs": [],
   "source": [
    "batch_file_name = 'last_matchresults_batch.csv'\n",
    "existing_match_ids_file_name = 'existing_match_ids.csv' # used to prevent the same match from going to postgres twice"
   ]
  },
  {
   "cell_type": "code",
   "execution_count": 8,
   "metadata": {},
   "outputs": [],
   "source": [
    "# match data is prepared. time to move to Postgres\n",
    "## get credentials from .config, connect to DB\n",
    "logger.log(process_name,'Starting postgres connection')\n",
    "credential_dict = {}\n",
    "with open ('connections.config','r') as config_file:\n",
    "    credential_dict = json.loads(config_file.read())\n",
    "\n",
    "connection_string = \"dbname=\"+credential_dict['psql_dbname'] + \\\n",
    "    \" user=\"+credential_dict['psql_username'] + \\\n",
    "    \" password=\"+credential_dict['psql_password']\n",
    "\n",
    "conn = psycopg2.connect(connection_string)\n",
    "\n",
    "# place the psql cursor\n",
    "cur = conn.cursor()\n",
    "logger.log(process_name,'Postgres connected')"
   ]
  },
  {
   "cell_type": "code",
   "execution_count": 9,
   "metadata": {},
   "outputs": [],
   "source": [
    "# Need to check if match_ids of new matches are already in the database\n",
    "with open (existing_match_ids_file_name,'w') as match_id_file:\n",
    "    cur.copy_to(file=match_id_file,table='match_results',sep='|',columns=['match_id'])\n",
    "# a copy of existing match_ids is kept as a csv just for reference on searches outside this project, not strictly needed\n",
    "existing_match_ids = pd.read_csv(existing_match_ids_file_name,header=None,sep='|', names=['match_id'])\n",
    "existing_match_ids['id_exists'] = True\n",
    "\n",
    "#using a left join to connect any new matches with existing match_ids in postgres\n",
    "public_match_results = public_match_results.merge(existing_match_ids,how='left',on='match_id')\n",
    "public_match_results = public_match_results[public_match_results['id_exists'] != True] # only non-overlapping match results remain\n",
    "public_match_results.drop(columns=['id_exists'],axis=1,inplace=True)\n",
    "\n",
    "#write the results to a CSV, even if rows are empty\n",
    "public_match_results.to_csv(batch_file_name,index=False,header=False,sep='|')"
   ]
  },
  {
   "cell_type": "code",
   "execution_count": 10,
   "metadata": {},
   "outputs": [],
   "source": [
    "logger.log(process_name,'Batch prepared with shape ' + str(public_match_results.shape) + ', attempting to add to postgres')\n",
    "if public_match_results.shape[0] == 0:\n",
    "    logger.log(process_name,'Batch empty, no data to add to postgres')\n",
    "else:\n",
    "    # copy csv to postgres, commit the change\n",
    "    with open (batch_file_name,'r') as batch_file:\n",
    "        cur.copy_from(batch_file, 'match_results', sep='|')\n",
    "    conn.commit()\n",
    "    logger.log(process_name,'Data loaded, committed to postgres')"
   ]
  },
  {
   "cell_type": "code",
   "execution_count": 11,
   "metadata": {},
   "outputs": [],
   "source": [
    "# close psql cursor and connection\n",
    "cur.close()\n",
    "conn.close()\n",
    "logger.log(process_name,'Closed postgres connection')"
   ]
  },
  {
   "cell_type": "code",
   "execution_count": 12,
   "metadata": {},
   "outputs": [],
   "source": [
    "logger.log(process_name,'Process ending')"
   ]
  }
 ],
 "metadata": {
  "kernelspec": {
   "display_name": "base",
   "language": "python",
   "name": "python3"
  },
  "language_info": {
   "codemirror_mode": {
    "name": "ipython",
    "version": 3
   },
   "file_extension": ".py",
   "mimetype": "text/x-python",
   "name": "python",
   "nbconvert_exporter": "python",
   "pygments_lexer": "ipython3",
   "version": "3.9.12"
  },
  "orig_nbformat": 4
 },
 "nbformat": 4,
 "nbformat_minor": 2
}
